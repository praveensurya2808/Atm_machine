{
  "nbformat": 4,
  "nbformat_minor": 0,
  "metadata": {
    "colab": {
      "provenance": [],
      "gpuType": "T4",
      "authorship_tag": "ABX9TyPJEjZXwJ7L1WJnBJDAx5kj",
      "include_colab_link": true
    },
    "kernelspec": {
      "name": "python3",
      "display_name": "Python 3"
    },
    "language_info": {
      "name": "python"
    },
    "accelerator": "GPU"
  },
  "cells": [
    {
      "cell_type": "markdown",
      "metadata": {
        "id": "view-in-github",
        "colab_type": "text"
      },
      "source": [
        "<a href=\"https://colab.research.google.com/github/praveensurya2808/Atm_machine/blob/main/Numpy_leanings.ipynb\" target=\"_parent\"><img src=\"https://colab.research.google.com/assets/colab-badge.svg\" alt=\"Open In Colab\"/></a>"
      ]
    },
    {
      "cell_type": "code",
      "execution_count": null,
      "metadata": {
        "colab": {
          "base_uri": "https://localhost:8080/"
        },
        "id": "S5G4YhzdknCR",
        "outputId": "7388189c-8e8e-4420-8b97-1945b1d6112d"
      },
      "outputs": [
        {
          "output_type": "stream",
          "name": "stdout",
          "text": [
            "Please provide your Kaggle credentials to download this dataset. Learn more: http://bit.ly/kaggle-creds\n",
            "Your Kaggle username: praveensurya28\n",
            "Your Kaggle Key: ··········\n",
            "Dataset URL: https://www.kaggle.com/datasets/mssmartypants/rice-type-classification\n",
            "Downloading rice-type-classification.zip to ./rice-type-classification\n"
          ]
        },
        {
          "output_type": "stream",
          "name": "stderr",
          "text": [
            "100%|██████████| 888k/888k [00:00<00:00, 954MB/s]"
          ]
        },
        {
          "output_type": "stream",
          "name": "stdout",
          "text": [
            "\n"
          ]
        },
        {
          "output_type": "stream",
          "name": "stderr",
          "text": [
            "\n"
          ]
        }
      ],
      "source": [
        "!pip install opendatasets --quiet\n",
        "\n",
        "import opendatasets as od\n",
        "od.download(\"https://www.kaggle.com/datasets/mssmartypants/rice-type-classification\")"
      ]
    },
    {
      "cell_type": "code",
      "source": [
        "import torch\n",
        "import torch.nn as nn\n",
        "from torch.optim import Adam\n",
        "from torch.utils.data import DataLoader,Dataset\n",
        "from torchsummary import summary\n",
        "from sklearn.model_selection import train_test_split\n",
        "from sklearn.metrics import accuracy_score\n",
        "import matplotlib.pyplot as plt\n",
        "import numpy as np\n",
        "import pandas as pd\n",
        "device = 'cuda' if torch.cuda.is_available() else 'cpu'\n",
        "print (device)\n",
        "\n"
      ],
      "metadata": {
        "colab": {
          "base_uri": "https://localhost:8080/"
        },
        "id": "5ZmD511Umi5l",
        "outputId": "cf203f02-7993-4587-f8e9-6d3d19670e0e"
      },
      "execution_count": null,
      "outputs": [
        {
          "output_type": "stream",
          "name": "stdout",
          "text": [
            "cuda\n"
          ]
        }
      ]
    },
    {
      "cell_type": "code",
      "source": [
        "data_df = pd.read_csv(\"/content/rice-type-classification/riceClassification.csv\")\n",
        "data_df.head()\n",
        "data_df.dropna(inplace=True)\n",
        "data_df.drop(['id'],axis=1,inplace=True)\n",
        "data_df.head()\n",
        "data_df.shape"
      ],
      "metadata": {
        "colab": {
          "base_uri": "https://localhost:8080/"
        },
        "id": "Ul-nwGzjorF6",
        "outputId": "d47e15b2-135a-45d5-c0aa-4674e56bfaa7"
      },
      "execution_count": null,
      "outputs": [
        {
          "output_type": "execute_result",
          "data": {
            "text/plain": [
              "(18185, 11)"
            ]
          },
          "metadata": {},
          "execution_count": 9
        }
      ]
    },
    {
      "cell_type": "code",
      "source": [
        "data_df['Class'].value_counts()\n",
        "\n",
        "data_df['Class'].unique()\n"
      ],
      "metadata": {
        "colab": {
          "base_uri": "https://localhost:8080/"
        },
        "id": "1FJW71lcqT9F",
        "outputId": "8bdd9d31-d51e-4521-ebde-d355bbcc2f85"
      },
      "execution_count": null,
      "outputs": [
        {
          "output_type": "execute_result",
          "data": {
            "text/plain": [
              "array([1, 0])"
            ]
          },
          "metadata": {},
          "execution_count": 11
        }
      ]
    },
    {
      "cell_type": "code",
      "source": [
        "original_df = data_df.copy()\n",
        "for column in data_df.columns:\n",
        "  data_df[column] = data_df[column]/data_df[column].abs().max()\n",
        "data_df.head()"
      ],
      "metadata": {
        "id": "aXipR4WiAHg9"
      },
      "execution_count": null,
      "outputs": []
    },
    {
      "cell_type": "code",
      "source": [
        "X = np.array(data_df.iloc[:,:-1]) #data_df.iloc[:,:-1]\n",
        "Y = np.array(data_df.iloc[:,-1])"
      ],
      "metadata": {
        "id": "AiL8Kn03B4vG"
      },
      "execution_count": null,
      "outputs": []
    },
    {
      "cell_type": "code",
      "source": [
        "X_train,X_test,Y_train,Y_test = train_test_split(X,Y,test_size = 0.3)"
      ],
      "metadata": {
        "id": "cNNMQkZoC70I"
      },
      "execution_count": null,
      "outputs": []
    },
    {
      "cell_type": "code",
      "source": [
        "X_test,X_val,Y_test,Y_val = train_test_split(X_test,Y_test,test_size = 0.5)"
      ],
      "metadata": {
        "id": "e0-_jOmLDHYd"
      },
      "execution_count": null,
      "outputs": []
    },
    {
      "cell_type": "code",
      "source": [
        "print(X_train.shape)\n",
        "print(X_test.shape)\n",
        "print(X_val.shape)"
      ],
      "metadata": {
        "collapsed": true,
        "id": "UPzZAduQDV_N"
      },
      "execution_count": null,
      "outputs": []
    },
    {
      "cell_type": "code",
      "source": [
        "class dataset(Dataset):\n",
        "  def __init__(self,X,Y):\n",
        "    self.X= torch.tensor(X,dtype = torch.float32).to(device)\n",
        "    self.Y= torch.tensor(Y,dtype = torch.float32).to(device)\n",
        "\n",
        "  def __len__(self):\n",
        "    return len(self.X)\n",
        "\n",
        "  def __getitem__(self, index):\n",
        "    return self.X[index],self.Y[index]\n",
        "\n"
      ],
      "metadata": {
        "id": "tKupqxvaFZGP"
      },
      "execution_count": null,
      "outputs": []
    },
    {
      "cell_type": "code",
      "source": [
        "training_data = dataset(X_train,Y_train)\n",
        "val_data = dataset(X_val,Y_val)\n",
        "testing_data = dataset(X_test,Y_test)\n"
      ],
      "metadata": {
        "id": "yI-ARRqiGGfw"
      },
      "execution_count": null,
      "outputs": []
    },
    {
      "cell_type": "code",
      "source": [
        "training_dataloader = DataLoader(training_data,batch_size= 7, shuffle= True)\n",
        "testing_dataloader = DataLoader(testing_data,batch_size= 7, shuffle= True)\n",
        "validation_dataloader = DataLoader(val_data,batch_size= 7, shuffle= True)"
      ],
      "metadata": {
        "id": "hgio9iySINyy"
      },
      "execution_count": null,
      "outputs": []
    },
    {
      "cell_type": "code",
      "source": [
        "for x, y in training_dataloader:\n",
        "  print(x)\n",
        "  print(\"========\")\n",
        "  print(y)"
      ],
      "metadata": {
        "collapsed": true,
        "id": "_ppI61ldIlQE"
      },
      "execution_count": null,
      "outputs": []
    },
    {
      "cell_type": "code",
      "source": [
        "HIDDEN_NEURONS = 10\n",
        "class MyModel(nn.Module):\n",
        "  def __init__(self):\n",
        "    super(MyModel,self).__init__()\n",
        "\n",
        "    self.input_layer = nn.Linear(X.shape[1],HIDDEN_NEURONS)\n",
        "    self.linear = nn.Linear(HIDDEN_NEURONS,1)\n",
        "    self.sigmoid = nn.Sigmoid()\n",
        "\n",
        "  def forward(self,x):\n",
        "    x= self.input_layer(x)\n",
        "    x= self.linear(x)\n",
        "    x= self.sigmoid(x)\n",
        "    return x\n",
        "\n",
        "model = MyModel().to(device)"
      ],
      "metadata": {
        "id": "vxmHYmY4JAFh"
      },
      "execution_count": null,
      "outputs": []
    },
    {
      "cell_type": "code",
      "source": [
        "summary(model,(X.shape[1],))"
      ],
      "metadata": {
        "colab": {
          "base_uri": "https://localhost:8080/"
        },
        "id": "1Swsz-ORLMvu",
        "outputId": "910b1e4b-f6b5-450d-c45a-54332b37093d"
      },
      "execution_count": null,
      "outputs": [
        {
          "output_type": "stream",
          "name": "stdout",
          "text": [
            "----------------------------------------------------------------\n",
            "        Layer (type)               Output Shape         Param #\n",
            "================================================================\n",
            "            Linear-1                   [-1, 10]             110\n",
            "            Linear-2                    [-1, 1]              11\n",
            "           Sigmoid-3                    [-1, 1]               0\n",
            "================================================================\n",
            "Total params: 121\n",
            "Trainable params: 121\n",
            "Non-trainable params: 0\n",
            "----------------------------------------------------------------\n",
            "Input size (MB): 0.00\n",
            "Forward/backward pass size (MB): 0.00\n",
            "Params size (MB): 0.00\n",
            "Estimated Total Size (MB): 0.00\n",
            "----------------------------------------------------------------\n"
          ]
        }
      ]
    }
  ]
}