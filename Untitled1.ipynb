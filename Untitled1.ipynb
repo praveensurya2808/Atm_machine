{
  "nbformat": 4,
  "nbformat_minor": 0,
  "metadata": {
    "colab": {
      "provenance": [],
      "toc_visible": true,
      "authorship_tag": "ABX9TyPkgj+msizwcMDNHX1oCpKo",
      "include_colab_link": true
    },
    "kernelspec": {
      "name": "python3",
      "display_name": "Python 3"
    },
    "language_info": {
      "name": "python"
    }
  },
  "cells": [
    {
      "cell_type": "markdown",
      "metadata": {
        "id": "view-in-github",
        "colab_type": "text"
      },
      "source": [
        "<a href=\"https://colab.research.google.com/github/praveensurya2808/Atm_machine/blob/main/Untitled1.ipynb\" target=\"_parent\"><img src=\"https://colab.research.google.com/assets/colab-badge.svg\" alt=\"Open In Colab\"/></a>"
      ]
    },
    {
      "cell_type": "code",
      "execution_count": 4,
      "metadata": {
        "id": "nEQamuk-axAQ",
        "colab": {
          "base_uri": "https://localhost:8080/"
        },
        "outputId": "87c2fd9d-cdaa-4eb7-cb82-c31ca29d1a83"
      },
      "outputs": [
        {
          "output_type": "stream",
          "name": "stdout",
          "text": [
            "Order Report:\n",
            "   ExternOrderNo            SKU  Order Qty  Unnamed: 3  Unnamed: 4\n",
            "0     2001827036  8904223818706        1.0         NaN         NaN\n",
            "1     2001827036  8904223819093        1.0         NaN         NaN\n",
            "2     2001827036  8904223819109        1.0         NaN         NaN\n",
            "3     2001827036  8904223818430        1.0         NaN         NaN\n",
            "4     2001827036  8904223819277        1.0         NaN         NaN\n",
            "\n",
            "SKU Master:\n",
            "             SKU  Weight (g)  Unnamed: 2  Unnamed: 3  Unnamed: 4\n",
            "0  8904223815682         210         NaN         NaN         NaN\n",
            "1  8904223815859         165         NaN         NaN         NaN\n",
            "2  8904223815866         113         NaN         NaN         NaN\n",
            "3  8904223815873          65         NaN         NaN         NaN\n",
            "4  8904223816214         120         NaN         NaN         NaN\n",
            "\n",
            "Pincode Mapping:\n",
            "   Warehouse Pincode  Customer Pincode Zone  Unnamed: 3  Unnamed: 4\n",
            "0             121003            507101    d         NaN         NaN\n",
            "1             121003            486886    d         NaN         NaN\n",
            "2             121003            532484    d         NaN         NaN\n",
            "3             121003            143001    b         NaN         NaN\n",
            "4             121003            515591    d         NaN         NaN\n",
            "\n",
            "Courier Invoice:\n",
            "        AWB Code    Order ID  Charged Weight  Warehouse Pincode  \\\n",
            "0  1091117222124  2001806232            1.30             121003   \n",
            "1  1091117222194  2001806273            1.00             121003   \n",
            "2  1091117222931  2001806408            2.50             121003   \n",
            "3  1091117223244  2001806458            1.00             121003   \n",
            "4  1091117229345  2001807012            0.15             121003   \n",
            "\n",
            "   Customer Pincode Zone Type of Shipment  Billing Amount (Rs.)  \n",
            "0            507101    d  Forward charges                 135.0  \n",
            "1            486886    d  Forward charges                  90.2  \n",
            "2            532484    d  Forward charges                 224.6  \n",
            "3            143001    b  Forward charges                  61.3  \n",
            "4            515591    d  Forward charges                  45.4  \n",
            "\n",
            "Courier Company rates:\n",
            "   fwd_a_fixed  fwd_a_additional  fwd_b_fixed  fwd_b_additional  fwd_c_fixed  \\\n",
            "0         29.5              23.6           33              28.3         40.1   \n",
            "\n",
            "   fwd_c_additional  fwd_d_fixed  fwd_d_additional  fwd_e_fixed  \\\n",
            "0              38.9         45.4              44.8         56.6   \n",
            "\n",
            "   fwd_e_additional  rto_a_fixed  rto_a_additional  rto_b_fixed  \\\n",
            "0              55.5         13.6              23.6         20.5   \n",
            "\n",
            "   rto_b_additional  rto_c_fixed  rto_c_additional  rto_d_fixed  \\\n",
            "0              28.3         31.9              38.9         41.3   \n",
            "\n",
            "   rto_d_additional  rto_e_fixed  rto_e_additional  \n",
            "0              44.8         50.7              55.5  \n"
          ]
        }
      ],
      "source": [
        "import pandas as pd\n",
        "order_report = pd.read_csv('Order Report.csv')\n",
        "invoice = pd.read_csv('Invoice.csv')\n",
        "sku_master = pd.read_csv('SKU Master.csv')\n",
        "pincodes = pd.read_csv('pincodes.csv')\n",
        "courier_company_rates = pd.read_csv('Courier Company - Rates.csv')\n",
        "print(\"Order Report:\")\n",
        "print(order_report.head())\n",
        "print(\"\\nSKU Master:\")\n",
        "print(sku_master.head())\n",
        "print(\"\\nPincode Mapping:\")\n",
        "print(pincodes.head())\n",
        "print(\"\\nCourier Invoice:\")\n",
        "print(invoice.head())\n",
        "print(\"\\nCourier Company rates:\")\n",
        "print(courier_company_rates.head())\n",
        "\n"
      ]
    }
  ]
}